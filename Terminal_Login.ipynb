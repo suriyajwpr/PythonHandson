{
 "cells": [
  {
   "cell_type": "code",
   "execution_count": 56,
   "id": "22f5816c",
   "metadata": {},
   "outputs": [],
   "source": [
    "import re"
   ]
  },
  {
   "cell_type": "code",
   "execution_count": 57,
   "id": "75cc0188",
   "metadata": {},
   "outputs": [],
   "source": [
    "login_Info_sheet = r\"C:\\Users\\Suriya\\Downloads\\proj1.txt\""
   ]
  },
  {
   "cell_type": "code",
   "execution_count": 58,
   "id": "014a3aa9",
   "metadata": {},
   "outputs": [],
   "source": [
    "def registration():\n",
    "    global login_Info\n",
    "    emailid = input('Enter the mail-id: ')\n",
    "    if emailid == 'stop':\n",
    "        return None\n",
    "    Email_pattern ='[a-z0-9]*@[a-z]*.[a-z]{2,3}'\n",
    "    if re.match(Email_pattern,emailid):\n",
    "        password = input('Enter the password: ')\n",
    "        if password == 'stop':\n",
    "            return None\n",
    "        Password_pattern = '[a-z0-9A-Z*!@#$%^&_]{6,15}'\n",
    "        if re.match(Password_pattern,password):\n",
    "            f = open(login_Info_sheet, \"a\")\n",
    "            f.writelines(emailid+'-'+password)\n",
    "            f.writelines('\\n')\n",
    "            f.close()\n",
    "            print('Registration completed')\n",
    "        else:\n",
    "            print(\"enter valid input\")\n",
    "            registration()\n",
    "    else:\n",
    "        print ('Invalid email')\n",
    "        registration()"
   ]
  },
  {
   "cell_type": "code",
   "execution_count": 59,
   "id": "5014cbce",
   "metadata": {},
   "outputs": [],
   "source": [
    "def login():\n",
    "    emailid = input('Enter the mail-id: ')\n",
    "    password = input('Enter the password: ')\n",
    "    if emailid == 'stop' or password == 'stop':\n",
    "        return None\n",
    "    mail_password_combo = emailid + '-' + password+'\\n'\n",
    "    loginsheet_opened = open(login_Info_sheet, \"r\")\n",
    "    loginsheetread = loginsheet_opened.readlines()\n",
    "    userfound=False\n",
    "    for eachline in loginsheetread:\n",
    "        if eachline == mail_password_combo:\n",
    "            print('Welcome '+ emailid.split('@')[0])\n",
    "            userfound=True\n",
    "            break\n",
    "    if not userfound:\n",
    "        print('Invalid credential')\n",
    "            \n",
    "    loginsheet_opened.close()"
   ]
  },
  {
   "cell_type": "code",
   "execution_count": 60,
   "id": "ea4a5a2e",
   "metadata": {},
   "outputs": [],
   "source": [
    "def forget_pswd():\n",
    "    global login_Info\n",
    "    emailid = input('Enter the mail-id: ')\n",
    "    if emailid == 'stop':\n",
    "        return None\n",
    "    Email_pattern ='[a-z0-9]*@[a-z]*.[a-z]{2,3}'\n",
    "    if re.match(Email_pattern,emailid):\n",
    "        loginsheet_opened = open(login_Info_sheet, \"r\")\n",
    "        loginsheetread = loginsheet_opened.readlines()\n",
    "        userfound=False\n",
    "        for eachline in loginsheetread:\n",
    "            if eachline.split('-')[0] == emailid:\n",
    "                print('Your old password is: '+str(eachline.split('-')[1]))\n",
    "                userfound=True\n",
    "                break\n",
    "        if not userfound:\n",
    "            print('User not found')\n",
    "    else:\n",
    "        print('invalid emailid')\n",
    "               "
   ]
  },
  {
   "cell_type": "code",
   "execution_count": 61,
   "id": "6afab95d",
   "metadata": {},
   "outputs": [],
   "source": [
    "def main_menu():\n",
    "    print('WELCOME')\n",
    "    print ('TYPE 1 for LOGIN')\n",
    "    print ('TYPE 2 for REGISTER')\n",
    "    print ('TYPE 3 for Forgot Password?')\n",
    "    print ('TYPE 4 for EXIT')\n",
    "    menu_option=int(input('Enter Your Choice: ')) \n",
    "    if menu_option == 2:\n",
    "        registration()\n",
    "        main_menu()\n",
    "    elif menu_option == 1:\n",
    "        login()\n",
    "        main_menu()\n",
    "    elif menu_option == 3:\n",
    "        forget_pswd()\n",
    "        main_menu()\n",
    "    elif menu_option == 4:\n",
    "        return None\n",
    "    else:\n",
    "        print('invalid Choice')"
   ]
  },
  {
   "cell_type": "code",
   "execution_count": 62,
   "id": "c194611e",
   "metadata": {
    "scrolled": true
   },
   "outputs": [
    {
     "name": "stdout",
     "output_type": "stream",
     "text": [
      "WELCOME\n",
      "TYPE 1 for LOGIN\n",
      "TYPE 2 for REGISTER\n",
      "TYPE 3 for Forgot Password?\n",
      "TYPE 4 for EXIT\n",
      "Enter Your Choice: 3\n",
      "Enter the mail-id: abc1@gmail.com\n",
      "Your old password is: 123#Gopi\n",
      "\n",
      "WELCOME\n",
      "TYPE 1 for LOGIN\n",
      "TYPE 2 for REGISTER\n",
      "TYPE 3 for Forgot Password?\n",
      "TYPE 4 for EXIT\n",
      "Enter Your Choice: 1\n",
      "Enter the mail-id: abc1@gmail.com\n",
      "Enter the password: 123#Gopi\n",
      "Welcome abc1\n",
      "WELCOME\n",
      "TYPE 1 for LOGIN\n",
      "TYPE 2 for REGISTER\n",
      "TYPE 3 for Forgot Password?\n",
      "TYPE 4 for EXIT\n",
      "Enter Your Choice: 4\n"
     ]
    }
   ],
   "source": [
    "main_menu()"
   ]
  },
  {
   "cell_type": "code",
   "execution_count": null,
   "id": "7dc3e1d1",
   "metadata": {},
   "outputs": [],
   "source": []
  }
 ],
 "metadata": {
  "kernelspec": {
   "display_name": "Python 3 (ipykernel)",
   "language": "python",
   "name": "python3"
  },
  "language_info": {
   "codemirror_mode": {
    "name": "ipython",
    "version": 3
   },
   "file_extension": ".py",
   "mimetype": "text/x-python",
   "name": "python",
   "nbconvert_exporter": "python",
   "pygments_lexer": "ipython3",
   "version": "3.9.12"
  }
 },
 "nbformat": 4,
 "nbformat_minor": 5
}
